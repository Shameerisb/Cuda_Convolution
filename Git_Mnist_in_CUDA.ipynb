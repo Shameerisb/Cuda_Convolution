{
  "cells": [
    {
      "cell_type": "markdown",
      "metadata": {
        "id": "view-in-github",
        "colab_type": "text"
      },
      "source": [
        "<a href=\"https://colab.research.google.com/github/Shameerisb/Cuda_Convolution/blob/main/Git_Mnist_in_CUDA.ipynb\" target=\"_parent\"><img src=\"https://colab.research.google.com/assets/colab-badge.svg\" alt=\"Open In Colab\"/></a>"
      ]
    },
    {
      "cell_type": "code",
      "source": [
        "# %%capture\n",
        "#main Repo\n",
        "!git clone https://github.com/Shameerisb/Cuda_Convolution.git\n",
        "\n",
        "# Clone the cnpy repository\n",
        "!git clone https://github.com/rogersce/cnpy.git\n",
        "\n",
        "# Build the cnpy library\n",
        "!cd cnpy && mkdir build && cd build && cmake .. && make"
      ],
      "metadata": {
        "id": "aAnxGYHiEjqW",
        "colab": {
          "base_uri": "https://localhost:8080/"
        },
        "outputId": "aff47e55-7230-4005-e55e-59ef2d99a242"
      },
      "execution_count": null,
      "outputs": [
        {
          "output_type": "stream",
          "name": "stdout",
          "text": [
            "fatal: destination path 'Cuda_Convolution' already exists and is not an empty directory.\n",
            "fatal: destination path 'cnpy' already exists and is not an empty directory.\n",
            "mkdir: cannot create directory ‘build’: File exists\n"
          ]
        }
      ]
    },
    {
      "cell_type": "markdown",
      "metadata": {
        "id": "H51WUTQtzvsb"
      },
      "source": [
        "### Download Mnist and save verification files.\n"
      ]
    },
    {
      "cell_type": "code",
      "execution_count": null,
      "metadata": {
        "colab": {
          "base_uri": "https://localhost:8080/"
        },
        "collapsed": true,
        "id": "mMBFDgIDbCb7",
        "outputId": "3bdb81ae-5772-41dc-bf1a-b4e3a5b6ea0c"
      },
      "outputs": [
        {
          "output_type": "stream",
          "name": "stdout",
          "text": [
            "Please enter the input index: 1\n",
            "Mnist  Data downloded and saved\n",
            "Weights, biases, and shapes for all layers saved to individual .npy files.\n",
            "\u001b[1m1/1\u001b[0m \u001b[32m━━━━━━━━━━━━━━━━━━━━\u001b[0m\u001b[37m\u001b[0m \u001b[1m0s\u001b[0m 307ms/step\n",
            "Activation maps saved successfully.\n"
          ]
        }
      ],
      "source": [
        "import tensorflow as tf\n",
        "import numpy as np\n",
        "import matplotlib.pyplot as plt\n",
        "from tensorflow.keras.models import Model, load_model\n",
        "from tensorflow.keras.layers import Input\n",
        "from tensorflow.keras.datasets import mnist\n",
        "import os\n",
        "\n",
        "\n",
        "input_index = int(input(\"Please enter the input index: \"))  # Convert the input to an integer\n",
        "\n",
        "\n",
        "(X_train,Y_train),(X_test,Y_test) = mnist.load_data()\n",
        "X_train=X_train.astype('float32')\n",
        "X_test=X_test.astype('float32')\n",
        "\n",
        "## data normalization\n",
        "X_train=X_train/255\n",
        "X_test=X_test/255\n",
        "\n",
        "np.save(f'/content/Cuda_Convolution/Data/Input_Data', X_train)\n",
        "print(\"Mnist  Data downloded and saved\")\n",
        "\n",
        "\n",
        "\n",
        "\n",
        "################# Weights_Biases ###################\n",
        "\n",
        "# Load the pre-trained model\n",
        "model = load_model('/content/Cuda_Convolution/Data/Model/mnist_model_Basic.keras')\n",
        "\n",
        "def remove_none_shape(shape):\n",
        "    \"\"\"Remove None dimensions from the shape tuple.\"\"\"\n",
        "    return [dim for dim in shape if dim is not None]\n",
        "\n",
        "# Directory to save .npy files\n",
        "save_dir = '/content/Cuda_Convolution/Data/Mnist_images/Weights_and_Biases'\n",
        "\n",
        "# Iterate over each layer in the model\n",
        "for i, layer in enumerate(model.layers):\n",
        "    i = i + 1\n",
        "\n",
        "    layer_name = layer.name\n",
        "    layer_weights = layer.get_weights()\n",
        "\n",
        "    # Get the input and output shape of the layer\n",
        "    input_shape = remove_none_shape(layer.input.shape) if layer.input is not None else []\n",
        "    output_shape = remove_none_shape(layer.output.shape) if layer.output is not None else []\n",
        "\n",
        "    if input_shape:\n",
        "        # Convert shapes to numpy arrays\n",
        "        input_shape_np = np.array(input_shape, dtype=np.int64)\n",
        "        # Save input shape\n",
        "        np.save(os.path.join(save_dir, f'layer_{i}_input_shape.npy'), input_shape_np)\n",
        "    else:\n",
        "        # Handle case where input_shape is empty\n",
        "        print(f\"Layer {i} input_shape is empty and was not saved.\")\n",
        "\n",
        "    if output_shape:\n",
        "        # Convert shapes to numpy arrays\n",
        "        output_shape_np = np.array(output_shape, dtype=np.int64)\n",
        "        # Save output shape\n",
        "        np.save(os.path.join(save_dir, f'layer_{i}_output_shape.npy'), output_shape_np)\n",
        "    else:\n",
        "        # Handle case where output_shape is empty\n",
        "        print(f\"Layer {i} output_shape is empty and was not saved.\")\n",
        "\n",
        "    if layer_weights:  # Check if the layer has weights\n",
        "        weights, biases = layer_weights\n",
        "\n",
        "        if i < 4:\n",
        "            weights = np.transpose(weights, (3, 0, 1, 2))\n",
        "\n",
        "        # print(weights.shape)\n",
        "        # Save weights and biases\n",
        "        np.save(os.path.join(save_dir, f'layer_{i}_weights.npy'), weights)\n",
        "        np.save(os.path.join(save_dir, f'layer_{i}_biases.npy'), biases)\n",
        "\n",
        "print(\"Weights, biases, and shapes for all layers saved to individual .npy files.\")\n",
        "\n",
        "\n",
        "################# Activation_Maps ###################\n",
        "\n",
        "# Create a new input layer\n",
        "input_layer = Input(shape=(28, 28, 1))\n",
        "\n",
        "# Create a new model that outputs the activations of each layer\n",
        "x = input_layer\n",
        "layer_outputs = []\n",
        "for layer in model.layers:\n",
        "    x = layer(x)\n",
        "    layer_outputs.append(x)\n",
        "\n",
        "activation_model = Model(inputs=input_layer, outputs=layer_outputs)\n",
        "sample_input = X_train[input_index].reshape(1, 28, 28, 1)\n",
        "\n",
        "# Get the activations\n",
        "activations = activation_model.predict(sample_input)\n",
        "\n",
        "# Define the base path for saving the activation maps\n",
        "base_path = '/content/Cuda_Convolution/Data/Mnist_images/Verification_data/'\n",
        "\n",
        "# Plot the activation maps and save them\n",
        "for layer_index, activation in enumerate(activations):\n",
        "    # Preprocess the activation maps\n",
        "    activation_maps = np.squeeze(activation)  # Remove single-dimensional entries\n",
        "\n",
        "    # Save the activation maps\n",
        "    np.save(f\"{base_path}Input_{input_index}_L_{layer_index + 1}.npy\", activation_maps)\n",
        "\n",
        "    # print(f\"Layer {layer_index + 1} activation shape: {activation_maps.shape}\")\n",
        "\n",
        "print(\"Activation maps saved successfully.\")\n"
      ]
    },
    {
      "cell_type": "markdown",
      "metadata": {
        "id": "oElyxuwuz1DB"
      },
      "source": [
        "### Convolution_main\n"
      ]
    },
    {
      "cell_type": "code",
      "execution_count": null,
      "metadata": {
        "collapsed": true,
        "id": "4GVbx7Amna-K"
      },
      "outputs": [],
      "source": [
        "# Compile the Files\n",
        "\n",
        "!nvcc -o Mnist_1st_layer  \\\n",
        "'/content/cnpy/cnpy.cpp'\\\n",
        "'/content/Cuda_Convolution/Source_Code/Mnist_main.cu' \\\n",
        "'/content/Cuda_Convolution/Source_Code/utils.cpp' \\\n",
        "'/content/Cuda_Convolution/Source_Code/load_npy.cpp' \\\n",
        "'/content/Cuda_Convolution/Source_Code/Kernels.cu' \\\n",
        "-I/usr/include \\\n",
        "-I/usr/local/cuda/include \\\n",
        "-L/usr/lib/x86_64-linux-gnu \\\n",
        "-lcudnn -lcuda -Icnpy -lz\n",
        "\n",
        "\n",
        "profiling = input(\"Do you want to perform profiling? (y/n): \")\n",
        "\n",
        "if profiling == 'y':\n",
        "  !nvprof --print-gpu-trace ./Mnist_1st_layer\n",
        "else:\n",
        "  !./Mnist_1st_layer\n"
      ]
    }
  ],
  "metadata": {
    "colab": {
      "provenance": [],
      "gpuType": "T4",
      "include_colab_link": true
    },
    "kernelspec": {
      "display_name": "Python 3",
      "name": "python3"
    },
    "language_info": {
      "name": "python"
    },
    "accelerator": "GPU"
  },
  "nbformat": 4,
  "nbformat_minor": 0
}